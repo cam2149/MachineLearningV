{
  "nbformat": 4,
  "nbformat_minor": 0,
  "metadata": {
    "colab": {
      "private_outputs": true,
      "provenance": [],
      "include_colab_link": true
    },
    "kernelspec": {
      "name": "python3",
      "display_name": "Python 3"
    },
    "language_info": {
      "name": "python"
    }
  },
  "cells": [
    {
      "cell_type": "markdown",
      "metadata": {
        "id": "view-in-github",
        "colab_type": "text"
      },
      "source": [
        "<a href=\"https://colab.research.google.com/github/cam2149/MachineLearningV/blob/main/DengueCali_Completo.ipynb\" target=\"_parent\"><img src=\"https://colab.research.google.com/assets/colab-badge.svg\" alt=\"Open In Colab\"/></a>"
      ]
    },
    {
      "cell_type": "markdown",
      "source": [],
      "metadata": {
        "id": "Ckrr43Eb7-jD"
      }
    },
    {
      "cell_type": "markdown",
      "source": [
        "#Configuraciones"
      ],
      "metadata": {
        "id": "l9U_uqnvvYtf"
      }
    },
    {
      "cell_type": "markdown",
      "source": [
        "Revisión del contenido los archivos de Cali_Completo:2025\n",
        "\n",
        "* cali.dbf\n",
        "* cali.prj\n",
        "* cali.shp\n",
        "* cali.shx\n",
        "\n",
        "Se creo archivo csv dataset_procesado con los datos de cali.dbf y se construye el mapa de la ciudad de Cali con el contenido de los archivos."
      ],
      "metadata": {
        "id": "FA5VVXbCBP8i"
      }
    },
    {
      "cell_type": "markdown",
      "source": [
        "##Instalar librerías"
      ],
      "metadata": {
        "id": "VWH9Y2UG9KLD"
      }
    },
    {
      "cell_type": "code",
      "source": [
        "!pip install dbfread"
      ],
      "metadata": {
        "id": "j8KlzhGt9sVF"
      },
      "execution_count": null,
      "outputs": []
    },
    {
      "cell_type": "markdown",
      "source": [
        "# 1. Imports"
      ],
      "metadata": {
        "id": "FiQLr9h-0Cr7"
      }
    },
    {
      "cell_type": "code",
      "source": [
        "import torch.optim as optim\n",
        "\n",
        "# Subir archivo\n",
        "from google.colab import files\n",
        "# Leer archivo DBF y convertir a DataFrame (dataset)\n",
        "from dbfread import DBF\n",
        "import geopandas as gpd\n",
        "import pandas as pd\n"
      ],
      "metadata": {
        "id": "MO0sH9aq9VlV"
      },
      "execution_count": null,
      "outputs": []
    },
    {
      "cell_type": "code",
      "source": [
        "#Printing library versions\n",
        "print('Pandas:', pd.__version__)\n",
        "print('GeoPandas:', gpd.__version__)\n",
        "\n"
      ],
      "metadata": {
        "id": "0AXL-WbwzzVL"
      },
      "execution_count": null,
      "outputs": []
    },
    {
      "cell_type": "code",
      "source": [
        "import warnings\n",
        "warnings.filterwarnings(\"ignore\")\n"
      ],
      "metadata": {
        "id": "AP-TlyoQ0PMT"
      },
      "execution_count": null,
      "outputs": []
    },
    {
      "cell_type": "markdown",
      "source": [
        "# 2. Configs"
      ],
      "metadata": {
        "id": "ul8b3MgvAEJO"
      }
    },
    {
      "cell_type": "code",
      "source": [
        "config = {\n",
        "    \"DBF_FILE\": '/content/cali.dbf',\n",
        "    \"SHP_FILE\": '/content/cali.shp'\n",
        "}"
      ],
      "metadata": {
        "id": "tnCzjmsJAGst"
      },
      "execution_count": null,
      "outputs": []
    },
    {
      "cell_type": "markdown",
      "source": [
        "# Exploración"
      ],
      "metadata": {
        "id": "9VCh0_mP9YFN"
      }
    },
    {
      "cell_type": "code",
      "source": [
        "dbf = DBF(config['DBF_FILE'], encoding='latin-1')  # Ajusta la codificación si es necesario\n",
        "dataset = pd.DataFrame(iter(dbf))\n",
        "\n",
        "# Explorar el dataset\n",
        "print(dataset.head())\n",
        "print(dataset.info())\n",
        "\n",
        "# Limpiar (ejemplo: eliminar nulos)\n",
        "dataset = dataset.dropna()\n",
        "\n",
        "# Guardar el dataset como CSV\n",
        "dataset.to_csv('dataset_procesado.csv', index=False)\n",
        "\n",
        "# Descargar el archivo (opcional)\n",
        "#files.download('dataset_procesado.csv')"
      ],
      "metadata": {
        "id": "5LK4oFFn0wLB"
      },
      "execution_count": null,
      "outputs": []
    },
    {
      "cell_type": "code",
      "source": [
        "gdf = gpd.read_file(config['SHP_FILE'])\n",
        "\n",
        "# Mostrar las primeras filas del GeoDataFrame\n",
        "print(gdf.head())\n",
        "print(gdf.columns)\n",
        "print(gdf.geometry.type.value_counts())\n",
        "gdf.plot()\n",
        "import matplotlib.pyplot as plt\n",
        "plt.show()"
      ],
      "metadata": {
        "id": "9G8JRWPz6TeB"
      },
      "execution_count": null,
      "outputs": []
    }
  ]
}